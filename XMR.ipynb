{
 "cells": [
  {
   "cell_type": "code",
   "execution_count": 1,
   "metadata": {},
   "outputs": [],
   "source": [
    "import pandas as pd \n",
    "import numpy as np\n",
    "import xgboost as xgb\n",
    "from sklearn.metrics import mean_squared_error\n",
    "\n",
    "#wczytanie danych do datasetu pandas\n",
    "dataset = pd.read_csv('./datasets/XMR.csv',delimiter=\",\", header = 0)\n",
    "y = dataset.iloc[:,0]\n",
    "X = dataset.iloc[:,3:]\n",
    "\n",
    "#train_test_split gotowa funkcja do podzielenia bazy do medelu na część trenującą i uczącą\n",
    "from sklearn.model_selection import train_test_split\n",
    "X_train, X_test, y_train, y_test = train_test_split(X, y, test_size=0.2, random_state=123)\n",
    "X_all = xgb.DMatrix(X)\n",
    "X_train_D = xgb.DMatrix(X_train)\n",
    "X_test_D = xgb.DMatrix(X_test)\n",
    "D_train = xgb.DMatrix(X_train, label=y_train)\n",
    "D_test = xgb.DMatrix(X_test, label=y_test)"
   ]
  },
  {
   "cell_type": "code",
   "execution_count": 5,
   "metadata": {},
   "outputs": [
    {
     "name": "stdout",
     "output_type": "stream",
     "text": [
      "Test RMSE: %f 0.4572815611911609\n",
      "Train RMSE: %f 0.1468031182567529\n"
     ]
    }
   ],
   "source": [
    "\n",
    "#inicjujemy model i podajemy parametry modelu\n",
    "param = {\n",
    "    'booster': 'gbtree',\n",
    "    'objective': 'binary:logistic', \n",
    "    #'colsample_bytree': 0.3, \n",
    "    #'learning_rate': 0.1, \n",
    "    'min_split_loss': 1, \n",
    "    'max_depth': 10, \n",
    "    #'n_estimators': 80,\n",
    "    #'min_child_weight': 33,\n",
    "    \n",
    "    }\n",
    "steps = 100\n",
    "#trenujemy model na danych trenujących\n",
    "xg_reg = xgb.train(param, D_train, steps)\n",
    "#wyciągamy dane z modelu dla\n",
    "preds = xg_reg.predict(X_test_D)\n",
    "preds2 = xg_reg.predict(X_train_D)\n",
    "pred_all = xg_reg.predict(X_all)\n",
    "#liczymy średni błąd kwadratowy\n",
    "rmse = np.sqrt(mean_squared_error(y_test, preds))\n",
    "rmse2 = np.sqrt(mean_squared_error(y_train, preds2))\n",
    "print(\"Test RMSE: %f\", rmse)\n",
    "print(\"Train RMSE: %f\", rmse2)\n",
    "np.savetxt(r\"/home/patryk/prediction/datasets/predykcja_btc.csv\", pred_all, delimiter=\",\")\n",
    "#np.savetxt(r\"N:\\Users\\Poland\\Shared Documents\\Debt Collection\\COLLECTION_STRATEGY_TEAM\\Patryk FF\\y_test.csv\", y_test, delimiter=\",\")\n",
    "\n",
    "from sklearn.metrics import confusion_matrix"
   ]
  },
  {
   "cell_type": "code",
   "execution_count": 6,
   "metadata": {},
   "outputs": [
    {
     "name": "stdout",
     "output_type": "stream",
     "text": [
      "False positive cases: 42\n",
      "False negative cases: 45\n",
      "True positive cases: 110\n",
      "True negative cases: 84\n",
      "//////////////////////////////////////////////\n",
      "True positive rate: 70.967742%\n",
      "True negative rate: 66.666667%\n",
      "Positive prediction value: 72.368421%\n",
      "Negative predictive value: 65.116279%\n",
      "False positive rate: 33.333333%\n",
      "False negative rate: 29.032258%\n",
      "False discovery rate: 27.631579%\n",
      "//////////////////////////////////////////////\n",
      "Accuracy: 69.039146%\n"
     ]
    }
   ],
   "source": [
    "from sklearn.metrics import confusion_matrix\n",
    "preds_binary = np.array(preds)\n",
    "preds_binary = preds_binary > 0.5\n",
    "preds_binary = preds_binary.astype(int)\n",
    "\n",
    "cm=confusion_matrix(y_test, preds_binary)\n",
    "\n",
    "TN = cm[0][0]\n",
    "FN = cm[1][0]\n",
    "TP = cm[1][1]\n",
    "FP = cm[0][1]\n",
    "\n",
    "# Sensitivity, hit rate, recall, or true positive rate\n",
    "TPR = TP/(TP+FN)\n",
    "# Specificity or true negative rate\n",
    "TNR = TN/(TN+FP) \n",
    "# Precision or positive predictive value\n",
    "PPV = TP/(TP+FP)\n",
    "# Negative predictive value\n",
    "NPV = TN/(TN+FN)\n",
    "# Fall out or false positive rate\n",
    "FPR = FP/(FP+TN)\n",
    "# False negative rate\n",
    "FNR = FN/(TP+FN)\n",
    "# False discovery rate\n",
    "FDR = FP/(TP+FP)\n",
    "\n",
    "# Overall accuracy\n",
    "ACC = (TP+TN)/(TP+FP+FN+TN)\n",
    "print(\"False positive cases:\", FP)\n",
    "print(\"False negative cases:\", FN)\n",
    "print(\"True positive cases:\", TP)\n",
    "print(\"True negative cases:\", TN)\n",
    "print(\"//////////////////////////////////////////////\")\n",
    "print(\"True positive rate:\", \"{0:0f}%\".format(TPR*100))\n",
    "print(\"True negative rate:\", \"{0:0f}%\".format(TNR*100))\n",
    "print(\"Positive prediction value:\", \"{0:0f}%\".format(PPV*100))\n",
    "print(\"Negative predictive value:\", \"{0:0f}%\".format(NPV*100))\n",
    "print(\"False positive rate:\", \"{0:0f}%\".format(FPR*100))\n",
    "print(\"False negative rate:\", \"{0:0f}%\".format(FNR*100))\n",
    "print(\"False discovery rate:\", \"{0:0f}%\".format(FDR*100))\n",
    "print(\"//////////////////////////////////////////////\")\n",
    "print(\"Accuracy:\", \"{0:0f}%\".format(ACC*100))"
   ]
  },
  {
   "cell_type": "code",
   "execution_count": 7,
   "metadata": {},
   "outputs": [
    {
     "data": {
      "image/png": "[encoded data removed]",
      "text/plain": [
       "<Figure size 432x288 with 1 Axes>"
      ]
     },
     "metadata": {
      "needs_background": "light"
     },
     "output_type": "display_data"
    }
   ],
   "source": [
    "#histogram dla zmiennej objaśniającej\n",
    "import matplotlib.pyplot as plt\n",
    "n, bins, patches = plt.hist(preds, density=True, bins=100)  # `density=False` would make counts\n",
    "plt.ylabel('Counts')\n",
    "plt.xlabel('score')\n",
    "plt.title('Histogram score')\n",
    "plt.grid(True)\n",
    "plt.show()"
   ]
  },
  {
   "cell_type": "code",
   "execution_count": 8,
   "metadata": {},
   "outputs": [
    {
     "data": {
      "image/png": "[encoded data removed]",
      "text/plain": [
       "<Figure size 432x288 with 1 Axes>"
      ]
     },
     "metadata": {
      "needs_background": "light"
     },
     "output_type": "display_data"
    }
   ],
   "source": [
    "df_hist2 = np.vstack([preds,y_test]).T\n",
    "df_hist = pd.DataFrame(df_hist2)\n",
    "\n",
    "is_norm = df_hist[1]==1\n",
    "df1 = df_hist2[is_norm]\n",
    "\n",
    "is_n_norm = df_hist[1]==0\n",
    "df2 = df_hist2[is_n_norm]\n",
    "\n",
    "dx = df1[:,0]\n",
    "dy = df2[:,0]\n",
    "\n",
    "plt.hist(dx, density=True, alpha=0.5, bins=100, label=['stonk 1'])\n",
    "plt.hist(dy, density=True, alpha=0.5, bins=100, label=['stonk 0'])\n",
    "plt.legend(loc='upper right')\n",
    "plt.title('Histogram of score grouped by Y')\n",
    "plt.show()"
   ]
  },
  {
   "cell_type": "code",
   "execution_count": null,
   "metadata": {},
   "outputs": [],
   "source": []
  }
 ],
 "metadata": {
  "kernelspec": {
   "display_name": "Python 3",
   "language": "python",
   "name": "python3"
  },
  "language_info": {
   "codemirror_mode": {
    "name": "ipython",
    "version": 3
   },
   "file_extension": ".py",
   "mimetype": "text/x-python",
   "name": "python",
   "nbconvert_exporter": "python",
   "pygments_lexer": "ipython3",
   "version": "3.7.4"
  }
 },
 "nbformat": 4,
 "nbformat_minor": 4
}
